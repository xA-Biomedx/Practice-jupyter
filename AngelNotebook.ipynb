{
  "metadata": {
    "kernelspec": {
      "name": "python",
      "display_name": "Python (Pyodide)",
      "language": "python"
    },
    "language_info": {
      "name": ""
    }
  },
  "nbformat_minor": 4,
  "nbformat": 4,
  "cells": [
    {
      "cell_type": "markdown",
      "source": "# Mi Cuaderno para practicar ciencia de datos",
      "metadata": {}
    },
    {
      "cell_type": "markdown",
      "source": "## Introducción\n\nEn este cuaderno, exploraremos los lenguajes y bibliotecas fundamentales para la ciencia de datos, así como algunas herramientas útiles y ejemplos prácticos.\n",
      "metadata": {
        "jp-MarkdownHeadingCollapsed": true
      }
    },
    {
      "cell_type": "markdown",
      "source": "## Lenguajes de Ciencia de Datos\n\n- Python\n- R\n- Julia\n- Scala\n- SQL\n",
      "metadata": {}
    },
    {
      "cell_type": "markdown",
      "source": "## Bibliotecas de Ciencia de Datos\n\n- **Python:**\n  - Pandas\n  - NumPy\n  - Scikit-learn\n  - TensorFlow\n  - PyTorch\n\n- **R:**\n  - dplyr\n  - ggplot2\n  - caret\n  - tidyr\n",
      "metadata": {}
    },
    {
      "cell_type": "markdown",
      "source": "## Herramientas de Ciencia de Datos\n\n| Herramienta         | Descripción                                       |\n|---------------------|---------------------------------------------------|\n| Jupyter Notebook    | Entorno interactivo para código y documentación  |\n| RStudio             | IDE para el lenguaje R                           |\n| GitHub              | Plataforma de control de versiones                |\n| Google Colab        | Cuadernos en la nube con soporte para Python     |\n| Apache Spark        | Plataforma para el procesamiento de datos grandes|\n",
      "metadata": {}
    },
    {
      "cell_type": "markdown",
      "source": "## Ejemplos de Expresiones Aritméticas\n\nAquí se presentan algunos ejemplos básicos de expresiones aritméticas:\n\n- Suma: `5 + 3` da como resultado `8`\n- Resta: `10 - 2` da como resultado `8`\n- Multiplicación: `4 * 2` da como resultado `8`\n- División: `16 / 2` da como resultado `8`\n",
      "metadata": {}
    },
    {
      "cell_type": "code",
      "source": "# Ejemplo de multiplicación y suma en Python\n\n# Definir los números\nnum1 = 5\nnum2 = 3\n\n# Multiplicación\nproducto = num1 * num2\nprint(f\"Producto: {producto}\")\n\n# Suma\nsuma = num1 + num2\nprint(f\"Suma: {suma}\")\n",
      "metadata": {
        "trusted": true
      },
      "outputs": [],
      "execution_count": null
    },
    {
      "cell_type": "code",
      "source": "# Conversión de minutos a horas\n\n# Definir los minutos\nminutos = 120\n\n# Convertir a horas\nhoras = minutos / 60\nprint(f\"{minutos} minutos es igual a {horas} horas\")\n",
      "metadata": {
        "trusted": true
      },
      "outputs": [],
      "execution_count": null
    },
    {
      "cell_type": "code",
      "source": "# Lista de objetivos\n\nobjetivos = [\n    \"Aprender los lenguajes clave en ciencia de datos\",\n    \"Conocer bibliotecas útiles para análisis y visualización\",\n    \"Explorar herramientas para el desarrollo y despliegue\",\n    \"Realizar ejemplos prácticos con expresiones aritméticas\"\n]\n\n# Imprimir objetivos\nfor objetivo in objetivos:\n    print(f\"Objetivo: {objetivo}\")\n",
      "metadata": {
        "trusted": true
      },
      "outputs": [],
      "execution_count": null
    },
    {
      "cell_type": "markdown",
      "source": "## Autor\n\nAngel de Jesús R.",
      "metadata": {}
    }
  ]
}